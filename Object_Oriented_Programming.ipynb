{
  "cells": [
    {
      "cell_type": "markdown",
      "metadata": {
        "id": "view-in-github",
        "colab_type": "text"
      },
      "source": [
        "<a href=\"https://colab.research.google.com/github/Ilyass-Dahaoui/Software-Development-Techniques/blob/main/Object_Oriented_Programming.ipynb\" target=\"_parent\"><img src=\"https://colab.research.google.com/assets/colab-badge.svg\" alt=\"Open In Colab\"/></a>"
      ]
    },
    {
      "cell_type": "markdown",
      "source": [
        "<a href=\"https://colab.research.google.com/github/hdakhli/key-concepts/blob/main/4_clean_code/clean_code.ipynb\" target=\"_parent\"><img src=\"https://colab.research.google.com/assets/colab-badge.svg\" alt=\"Open In Colab\"/></a>"
      ],
      "metadata": {
        "collapsed": false,
        "id": "71cdf50fb5df6262"
      },
      "id": "71cdf50fb5df6262"
    },
    {
      "cell_type": "markdown",
      "source": [
        "# Utiliser des noms de variables significatifs et prononçables"
      ],
      "metadata": {
        "collapsed": false,
        "id": "93665d2eabc77dd7"
      },
      "id": "93665d2eabc77dd7"
    },
    {
      "cell_type": "code",
      "source": [
        "class Phone:\n",
        "    def __init__(self, brand: str, color: str, ram: int, storage: int):\n",
        "        self._brand = brand\n",
        "        self._color = color\n",
        "        self._ram = ram\n",
        "        self._storage = storage\n",
        "\n",
        "    def display_phone_specifications(self):\n",
        "        print(f\"brand: {self._color}, color: {self._color}, \"\n",
        "              f\"ram: {self._ram}, storage: {self._storage}\")\n",
        "\n",
        "    def call(self, phone_num: str):\n",
        "        print(f\"I'm calling: {phone_num}\")\n",
        "\n",
        "    def send_sms(self, phone_num: str):\n",
        "        print(f\"I'm sending text message to: {phone_num}\")"
      ],
      "metadata": {
        "id": "Rounro3BU4ff"
      },
      "id": "Rounro3BU4ff",
      "execution_count": null,
      "outputs": []
    },
    {
      "cell_type": "code",
      "source": [
        "samsung = Phone(\"Samsung\", \"black\", 2048, 60)\n",
        "xiaomi = Phone(\"Xiaomi\", \"Red\", 4096, 120)\n",
        "sony = Phone(\"Sony\", \"Blue\", 4096, 250)"
      ],
      "metadata": {
        "id": "BVZ4mA47U4Zn"
      },
      "id": "BVZ4mA47U4Zn",
      "execution_count": null,
      "outputs": []
    },
    {
      "cell_type": "code",
      "source": [
        "samsung.display_phone_specifications()\n",
        "samsung.call(\"333333\")"
      ],
      "metadata": {
        "id": "eyVmiOlQU4Vl"
      },
      "id": "eyVmiOlQU4Vl",
      "execution_count": null,
      "outputs": []
    },
    {
      "cell_type": "markdown",
      "source": [
        "Heritage"
      ],
      "metadata": {
        "id": "wiUpU6oYVAc7"
      },
      "id": "wiUpU6oYVAc7"
    },
    {
      "cell_type": "code",
      "source": [
        "class Engine:\n",
        "    def start(self):\n",
        "        print(\"I'm starting...\")\n",
        "\n",
        "\n",
        "class Vehicle:\n",
        "    def __init__(self, color: str, tires: int, engine: Engine):\n",
        "        self._color = color\n",
        "        self._tires = tires\n",
        "        self._engine = engine\n",
        "\n",
        "    def go_to(self, x: float, y: float):\n",
        "        print(f\"I'm moving to {x, y}\")\n",
        "\n",
        "    def brake(self):\n",
        "        print(\"I'm braking...\")\n",
        "\n",
        "    def start(self):\n",
        "        self._engine.start()\n",
        "\n",
        "\n",
        "class Tractor(Vehicle):\n",
        "    def __init__(self, color: str, tires: int, engine: Engine, doors: int):\n",
        "        super().__init__(color, tires, engine)"
      ],
      "metadata": {
        "id": "4kWR07AOU4P4"
      },
      "id": "4kWR07AOU4P4",
      "execution_count": null,
      "outputs": []
    },
    {
      "cell_type": "markdown",
      "source": [
        "Polymorphisme de fonctions de classes"
      ],
      "metadata": {
        "id": "RZzMvhtKVJM2"
      },
      "id": "RZzMvhtKVJM2"
    },
    {
      "cell_type": "code",
      "source": [
        "class Cat:\n",
        "    def __init__(self, name, age):\n",
        "        self.name = name\n",
        "        self.age = age\n",
        "\n",
        "    def info(self):\n",
        "        print(f\"I am a cat. My name is {self.name}. \"\n",
        "        f\"I am {self.age} years old.\")\n",
        "\n",
        "    def make_sound(self):\n",
        "        print(\"Miaou !\")\n",
        "\n",
        "\n",
        "class Dog:\n",
        "    def __init__(self, name, age):\n",
        "        self.name = name\n",
        "        self.age = age\n",
        "\n",
        "    def info(self):\n",
        "        print(\n",
        "            f\"I am a dog. My name is {self.name}. \"\n",
        "            f\"I am {self.age} years old.\")\n",
        "\n",
        "    def make_sound(self):\n",
        "        print(\"Ouaf !\")"
      ],
      "metadata": {
        "id": "Ozh9oPX6U4DM"
      },
      "id": "Ozh9oPX6U4DM",
      "execution_count": null,
      "outputs": []
    },
    {
      "cell_type": "code",
      "source": [
        "cat1 = Cat(\"Kitty\", 2.5)\n",
        "dog1 = Dog(\"Fluffy\", 4)\n",
        "for animal in [cat1, dog1]:\n",
        "    animal.info()\n",
        "    animal.make_sound()"
      ],
      "metadata": {
        "colab": {
          "base_uri": "https://localhost:8080/"
        },
        "id": "85AGj8SfVPJQ",
        "outputId": "451a297c-3002-4161-98c6-263999fda9de"
      },
      "id": "85AGj8SfVPJQ",
      "execution_count": null,
      "outputs": [
        {
          "output_type": "stream",
          "name": "stdout",
          "text": [
            "I am a cat. My name is Kitty. I am 2.5 years old.\n",
            "Miaou !\n",
            "I am a dog. My name is Fluffy. I am 4 years old.\n",
            "Ouaf !\n"
          ]
        }
      ]
    },
    {
      "cell_type": "markdown",
      "source": [
        "Polymorphisme par héritage"
      ],
      "metadata": {
        "id": "MlaMlAVPVUZI"
      },
      "id": "MlaMlAVPVUZI"
    },
    {
      "cell_type": "code",
      "source": [
        "from math import pi\n",
        "\n",
        "\n",
        "class Shape:\n",
        "    def __init__(self, name):\n",
        "        self.name = name\n",
        "\n",
        "    def area(self):\n",
        "        pass\n",
        "\n",
        "    def fact(self):\n",
        "        return \"I am a two-dimensional shape.\"\n",
        "\n",
        "\n",
        "class Square(Shape):\n",
        "    def __init__(self, length):\n",
        "        super().__init__(\"Square\")\n",
        "        self.length = length\n",
        "\n",
        "    def area(self):\n",
        "        return self.length ** 2\n",
        "\n",
        "    def fact(self):\n",
        "        return \"Squares have each angle equal to 90 degrees.\"\n",
        "\n",
        "\n",
        "class Circle(Shape):\n",
        "    def __init__(self, radius):\n",
        "        super().__init__(\"Circle\")\n",
        "        self.radius = radius\n",
        "\n",
        "    def area(self):\n",
        "        return pi * (self.radius ** 2)"
      ],
      "metadata": {
        "id": "9j6MsSJLVRrY"
      },
      "id": "9j6MsSJLVRrY",
      "execution_count": null,
      "outputs": []
    },
    {
      "cell_type": "code",
      "source": [
        "def display_properties(shape: Shape):\n",
        "    print(f\"{shape.name}: \")\n",
        "    print(f\"{shape.fact()}\")\n",
        "    print(f\"area = {shape.area()}\")\n",
        "    print(\"========================\")"
      ],
      "metadata": {
        "id": "WP2HdUNdVYNR"
      },
      "id": "WP2HdUNdVYNR",
      "execution_count": null,
      "outputs": []
    },
    {
      "cell_type": "code",
      "source": [
        "circle = Circle(2)\n",
        "carre = Square(2)\n",
        "\n",
        "display_properties(circle)\n",
        "display_properties(carre)"
      ],
      "metadata": {
        "colab": {
          "base_uri": "https://localhost:8080/"
        },
        "id": "bAEekywJVayZ",
        "outputId": "da17254e-8a23-4545-e36a-d09eb6b03e14"
      },
      "id": "bAEekywJVayZ",
      "execution_count": null,
      "outputs": [
        {
          "output_type": "stream",
          "name": "stdout",
          "text": [
            "Circle: \n",
            "I am a two-dimensional shape.\n",
            "area = 12.566370614359172\n",
            "========================\n",
            "Square: \n",
            "Squares have each angle equal to 90 degrees.\n",
            "area = 4\n",
            "========================\n"
          ]
        }
      ]
    },
    {
      "cell_type": "code",
      "execution_count": null,
      "id": "initial_id",
      "metadata": {
        "collapsed": true,
        "id": "initial_id"
      },
      "outputs": [],
      "source": [
        "import datetime\n",
        "\n",
        "current_date_time = datetime.date.today().strftime(\"%d-%m-%Y\")\n"
      ]
    },
    {
      "cell_type": "markdown",
      "source": [
        "#\n",
        "## Utiliser le même vocabulaire pour le même type de variable"
      ],
      "metadata": {
        "collapsed": false,
        "id": "151296eb95aa8337"
      },
      "id": "151296eb95aa8337"
    },
    {
      "cell_type": "code",
      "execution_count": null,
      "outputs": [],
      "source": [
        "def get_user_info():\n",
        "    # some processing here !\n",
        "    pass\n",
        "\n",
        "\n",
        "def get_user_basket():\n",
        "    # some processing here !\n",
        "    pass\n",
        "\n",
        "\n",
        "def get_user_record():\n",
        "    pass"
      ],
      "metadata": {
        "ExecuteTime": {
          "end_time": "2023-09-22T19:38:07.856186Z",
          "start_time": "2023-09-22T19:38:07.851986Z"
        },
        "id": "ec44ee7f9cf3b03"
      },
      "id": "ec44ee7f9cf3b03"
    },
    {
      "cell_type": "markdown",
      "source": [
        "### Better !"
      ],
      "metadata": {
        "collapsed": false,
        "id": "6ee67977f5b3d397"
      },
      "id": "6ee67977f5b3d397"
    },
    {
      "cell_type": "code",
      "execution_count": null,
      "outputs": [],
      "source": [
        "from typing import Dict\n",
        "\n",
        "\n",
        "class Record:\n",
        "    # Definir votre record\n",
        "    pass\n",
        "\n",
        "\n",
        "class User:\n",
        "    info: str\n",
        "\n",
        "    def get_basket(self) -> Dict[str, str]:\n",
        "        return {}\n",
        "\n",
        "    def get_record(self) -> Record:\n",
        "        return Record()\n",
        "\n",
        "user = User()\n",
        "basket = user.get_basket()\n",
        "record = user.get_record()"
      ],
      "metadata": {
        "ExecuteTime": {
          "end_time": "2023-09-22T19:48:04.716833Z",
          "start_time": "2023-09-22T19:48:04.714951Z"
        },
        "id": "b97de16c924e8315"
      },
      "id": "b97de16c924e8315"
    },
    {
      "cell_type": "markdown",
      "source": [
        "#\n",
        "\n",
        "## Utiliser des noms consultables et recherchables"
      ],
      "metadata": {
        "collapsed": false,
        "id": "c6ef1daaccf6e693"
      },
      "id": "c6ef1daaccf6e693"
    },
    {
      "cell_type": "code",
      "execution_count": null,
      "outputs": [],
      "source": [
        "import time\n",
        "\n",
        "wait_time_in_seconds = 10\n",
        "# What is the number 10 for again?\n",
        "time.sleep(wait_time_in_seconds)"
      ],
      "metadata": {
        "ExecuteTime": {
          "end_time": "2023-09-22T19:51:57.182673Z",
          "start_time": "2023-09-22T19:51:47.178446Z"
        },
        "id": "fd5ec7a1827847c8"
      },
      "id": "fd5ec7a1827847c8"
    },
    {
      "cell_type": "markdown",
      "source": [
        "#\n",
        "\n",
        "## Eviter le mapping mental"
      ],
      "metadata": {
        "collapsed": false,
        "id": "caca9f849f3ae0ba"
      },
      "id": "caca9f849f3ae0ba"
    },
    {
      "cell_type": "code",
      "execution_count": null,
      "outputs": [
        {
          "output_type": "stream",
          "name": "stdout",
          "text": [
            "Austin\n",
            "New York\n",
            "San Francisco\n"
          ]
        }
      ],
      "source": [
        "cities = (\"Austin\", \"New York\", \"San Francisco\")\n",
        "\n",
        "for city in cities:\n",
        "    # do_stuff()\n",
        "    # do_some_other_stuff()\n",
        "\n",
        "    # Wait, what's `item` again?\n",
        "    print(city)"
      ],
      "metadata": {
        "colab": {
          "base_uri": "https://localhost:8080/"
        },
        "id": "33ed73abf0ddfbdd",
        "outputId": "e903fbc9-4c44-4ad3-aabc-5b5db3fafd17"
      },
      "id": "33ed73abf0ddfbdd"
    },
    {
      "cell_type": "markdown",
      "source": [
        "#\n",
        "## Les fonctions doivent faire une seule chose"
      ],
      "metadata": {
        "collapsed": false,
        "id": "fb303b011ea53ced"
      },
      "id": "fb303b011ea53ced"
    },
    {
      "cell_type": "code",
      "execution_count": null,
      "outputs": [],
      "source": [
        "from typing import List\n",
        "\n",
        "\n",
        "class Client:\n",
        "    active: bool\n",
        "\n",
        "\n",
        "def email(client: Client) -> None:\n",
        "    # send email to client\n",
        "    pass\n",
        "\n",
        "\n",
        "def email_clients(clients: List[Client]) -> None:\n",
        "    \"\"\"\n",
        "    Filter active clients and send them an email.\n",
        "    \"\"\"\n",
        "    for client in clients:\n",
        "        if client.active:\n",
        "            email(client)"
      ],
      "metadata": {
        "ExecuteTime": {
          "end_time": "2023-09-22T20:11:57.046291Z",
          "start_time": "2023-09-22T20:11:57.032811Z"
        },
        "id": "6e9f4de269dcfd91"
      },
      "id": "6e9f4de269dcfd91"
    },
    {
      "cell_type": "code",
      "execution_count": null,
      "outputs": [],
      "source": [
        "from typing import List\n",
        "\n",
        "\n",
        "class Client:\n",
        "    active: bool\n",
        "\n",
        "\n",
        "def email(client: Client) -> None:\n",
        "    # send email to client\n",
        "    pass\n",
        "\n",
        "\n",
        "def get_active_clients(clients: List[Client]) -> List[Client]:\n",
        "    \"\"\"\n",
        "    Filter active clients.\n",
        "    \"\"\"\n",
        "    return [client for client in clients if client.active]\n",
        "\n",
        "\n",
        "def email_clients(clients: List[Client]) -> None:\n",
        "    \"\"\"\n",
        "    Send an email to a given list of clients.\n",
        "    \"\"\"\n",
        "    for client in get_active_clients(clients):\n",
        "        email(client)"
      ],
      "metadata": {
        "ExecuteTime": {
          "end_time": "2023-09-22T20:13:16.628571Z",
          "start_time": "2023-09-22T20:13:16.615190Z"
        },
        "id": "ace2fdace883588e"
      },
      "id": "ace2fdace883588e"
    },
    {
      "cell_type": "markdown",
      "source": [
        "#\n",
        "## Function arguments (2 or fewer ideally)"
      ],
      "metadata": {
        "collapsed": false,
        "id": "b402067a94c59337"
      },
      "id": "b402067a94c59337"
    },
    {
      "cell_type": "code",
      "execution_count": null,
      "outputs": [],
      "source": [
        "def create_menu(title, body, button_text, cancellable):\n",
        "    pass"
      ],
      "metadata": {
        "ExecuteTime": {
          "end_time": "2023-09-22T20:20:05.280010Z",
          "start_time": "2023-09-22T20:20:05.262747Z"
        },
        "id": "ea79abe88db9610a"
      },
      "id": "ea79abe88db9610a"
    },
    {
      "cell_type": "code",
      "execution_count": null,
      "outputs": [],
      "source": [
        "from dataclasses import astuple, dataclass\n",
        "\n",
        "\n",
        "@dataclass\n",
        "class MenuConfig:\n",
        "    \"\"\"\n",
        "    A configuration for the Menu.\n",
        "\n",
        "    Attributes:\n",
        "        title: The title of the Menu.\n",
        "        body: The body of the Menu.\n",
        "        button_text: The text for the button label.\n",
        "        cancellable: Can it be cancelled?\n",
        "    \"\"\"\n",
        "    title: str\n",
        "    body: str\n",
        "    button_text: str\n",
        "    cancellable: bool = False\n",
        "\n",
        "\n",
        "def create_menu(config: MenuConfig):\n",
        "    title, body, button_text, cancellable = astuple(config)\n",
        "    # ...\n",
        "\n",
        "menu_config = MenuConfig(\n",
        "    title=\"My delicious menu\",\n",
        "    body=\"A description of the various items on the menu\",\n",
        "    button_text=\"Order now!\"\n",
        ")\n",
        "\n",
        "create_menu(menu_config )"
      ],
      "metadata": {
        "ExecuteTime": {
          "end_time": "2023-09-22T20:23:25.703402Z",
          "start_time": "2023-09-22T20:23:25.699707Z"
        },
        "id": "8bfa704bf07c1a15"
      },
      "id": "8bfa704bf07c1a15"
    },
    {
      "cell_type": "markdown",
      "source": [
        "#\n",
        "## Les noms des fonctions doivent indiquer ce qu'elles font"
      ],
      "metadata": {
        "collapsed": false,
        "id": "b5e64ccae727e63b"
      },
      "id": "b5e64ccae727e63b"
    },
    {
      "cell_type": "code",
      "execution_count": null,
      "outputs": [],
      "source": [
        "class Email:\n",
        "    def send(self) -> None:\n",
        "        pass\n",
        "\n",
        "\n",
        "message = Email()\n",
        "# What is this supposed to do again?\n",
        "message.send()"
      ],
      "metadata": {
        "ExecuteTime": {
          "end_time": "2023-09-22T20:24:26.547262Z",
          "start_time": "2023-09-22T20:24:26.528694Z"
        },
        "id": "392745d45084079b"
      },
      "id": "392745d45084079b"
    },
    {
      "cell_type": "markdown",
      "source": [
        "#\n",
        "## Eviter les flags dans les paramètres des fonctions"
      ],
      "metadata": {
        "collapsed": false,
        "id": "9560a0b7b597af7"
      },
      "id": "9560a0b7b597af7"
    },
    {
      "cell_type": "code",
      "execution_count": null,
      "outputs": [],
      "source": [
        "from tempfile import gettempdir\n",
        "from pathlib import Path\n",
        "\n",
        "\n",
        "def create_file(name: str, temp: bool) -> None:\n",
        "    if temp:\n",
        "        (Path(gettempdir()) / name).touch()\n",
        "    else:\n",
        "        Path(name).touch()"
      ],
      "metadata": {
        "ExecuteTime": {
          "end_time": "2023-09-23T05:20:18.464739Z",
          "start_time": "2023-09-23T05:20:18.454497Z"
        },
        "id": "507d93e370df3a72"
      },
      "id": "507d93e370df3a72"
    },
    {
      "cell_type": "markdown",
      "source": [
        "#\n",
        "##"
      ],
      "metadata": {
        "collapsed": false,
        "id": "35cba01a4cf631ea"
      },
      "id": "35cba01a4cf631ea"
    },
    {
      "cell_type": "code",
      "execution_count": null,
      "outputs": [],
      "source": [
        "def create_file(name: str) -> None:\n",
        "    Path(name).touch()\n",
        "\n",
        "\n",
        "def create_temp_file(name: str) -> None:\n",
        "    (Path(gettempdir()) / name).touch()"
      ],
      "metadata": {
        "ExecuteTime": {
          "end_time": "2023-09-23T06:20:49.968232Z",
          "start_time": "2023-09-23T06:20:49.941284Z"
        },
        "id": "1ece23b0a72188a8"
      },
      "id": "1ece23b0a72188a8"
    },
    {
      "cell_type": "markdown",
      "source": [
        "#\n",
        "#\n",
        "# S O L I D\n",
        "#\n",
        "### Single-responsibility principle (SRP)\n",
        "### Open–closed principle (OCP)\n",
        "### Liskov substitution principle (LSP)\n",
        "### Interface segregation principle (ISP)\n",
        "### Dependency inversion principle (DIP)\n"
      ],
      "metadata": {
        "collapsed": false,
        "id": "395bf72f7d41f9b9"
      },
      "id": "395bf72f7d41f9b9"
    },
    {
      "cell_type": "markdown",
      "source": [
        "## Single Responsibility Principle\n",
        "Cela signifie qu'une classe ne doit avoir qu'une **seule responsabilité**"
      ],
      "metadata": {
        "collapsed": false,
        "id": "fdcc658bfe595e6d"
      },
      "id": "fdcc658bfe595e6d"
    },
    {
      "cell_type": "code",
      "execution_count": null,
      "outputs": [],
      "source": [
        "class FileManager:\n",
        "    def __init__(self, file_path):\n",
        "        self.file_path = file_path\n",
        "\n",
        "    def read_file(self):\n",
        "        pass\n",
        "\n",
        "    def write_file(self, data):\n",
        "        pass\n",
        "\n",
        "class Encryption:\n",
        "    def encrypt_data(self, data):\n",
        "        pass\n",
        "\n",
        "    def decrypt_data(self, data):\n",
        "        pass\n"
      ],
      "metadata": {
        "ExecuteTime": {
          "end_time": "2023-09-23T06:42:26.459736Z",
          "start_time": "2023-09-23T06:42:26.455636Z"
        },
        "id": "59938625d7e7e982"
      },
      "id": "59938625d7e7e982"
    },
    {
      "cell_type": "markdown",
      "source": [
        "#\n",
        "## Open–closed principle (OCP)\n",
        "Un module (class ou fonction) doit être conçu de manière à pouvoir être facilement étendue sans modifier le code existant."
      ],
      "metadata": {
        "collapsed": false,
        "id": "d167f3033792c2c3"
      },
      "id": "d167f3033792c2c3"
    },
    {
      "cell_type": "code",
      "execution_count": null,
      "outputs": [
        {
          "output_type": "stream",
          "name": "stdout",
          "text": [
            "Total area: 102.80000000000001\n"
          ]
        }
      ],
      "source": [
        "from abc import ABC, abstractmethod\n",
        "\n",
        "class Shape(ABC):\n",
        "    @abstractmethod\n",
        "    def area(self):\n",
        "        pass\n",
        "\n",
        "class Circle(Shape):\n",
        "    def __init__(self, radius):\n",
        "        self.radius = radius\n",
        "\n",
        "    def area(self):\n",
        "        return 3.14 * self.radius * self.radius\n",
        "\n",
        "class Rectangle(Shape):\n",
        "    def __init__(self, width, height):\n",
        "        self.width = width\n",
        "        self.height = height\n",
        "\n",
        "    def area(self):\n",
        "        return self.width * self.height\n",
        "\n",
        "def calculate_area(shapes):\n",
        "    return sum([shape.area() for shape in shapes])\n",
        "\n",
        "shapes = [Circle(2), Rectangle(2, 4), Circle(4), Rectangle(4, 8)]\n",
        "print(f\"Total area: {calculate_area(shapes)}\")"
      ],
      "metadata": {
        "colab": {
          "base_uri": "https://localhost:8080/"
        },
        "id": "aca648d50bf657e8",
        "outputId": "5ec4663b-1407-4718-f73a-a28a251a8cb4"
      },
      "id": "aca648d50bf657e8"
    },
    {
      "cell_type": "markdown",
      "source": [
        "En utilisant l'héritage et une classe de base abstraite, le code existant peut être étendu pour prendre en charge de nouvelles formes sans avoir à modifier le code existant. Par exemple, si nous voulions ajouter une forme carrée, nous pourrions simplement créer une classe Square qui hériterait de Shape et fournirait une implémentation de la méthode area. Cela respecte le principe OCP, puisque le code existant reste fermé à la modification, tandis que de nouvelles fonctionnalités peuvent être ajoutées par le biais d'une extension."
      ],
      "metadata": {
        "collapsed": false,
        "id": "430cd0b86941b1f2"
      },
      "id": "430cd0b86941b1f2"
    },
    {
      "cell_type": "markdown",
      "source": [
        "#\n",
        "## Liskov substitution principle (LSP)\n",
        "Les objets doivent pouvoir être remplacés par des instances de leurs sous-types sans altérer la correction du programme.\n",
        "Principe enoncé par Barbara Liskov lors de sa keynote en 1987: Data abstraction & hierarchy"
      ],
      "metadata": {
        "collapsed": false,
        "id": "195e5b3d15af9755"
      },
      "id": "195e5b3d15af9755"
    },
    {
      "cell_type": "code",
      "execution_count": null,
      "outputs": [],
      "source": [
        "class Square(Rectangle):\n",
        "    def __init__(self, side):\n",
        "        super().__init__(side, side)"
      ],
      "metadata": {
        "ExecuteTime": {
          "end_time": "2023-09-23T20:11:38.712059Z",
          "start_time": "2023-09-23T20:11:38.709498Z"
        },
        "id": "cf6791c68c362f1"
      },
      "id": "cf6791c68c362f1"
    },
    {
      "cell_type": "markdown",
      "source": [
        "#"
      ],
      "metadata": {
        "collapsed": false,
        "id": "9c50a6f4be957db0"
      },
      "id": "9c50a6f4be957db0"
    },
    {
      "cell_type": "code",
      "execution_count": null,
      "outputs": [],
      "source": [
        "class Square(Shape):\n",
        "    def __init__(self, side):\n",
        "        self.side = side\n",
        "\n",
        "    def area(self):\n",
        "        return self.side ** 2\n"
      ],
      "metadata": {
        "ExecuteTime": {
          "end_time": "2023-09-24T05:34:21.901968Z",
          "start_time": "2023-09-24T05:34:21.887438Z"
        },
        "id": "a9b5b7f669b4373"
      },
      "id": "a9b5b7f669b4373"
    },
    {
      "cell_type": "markdown",
      "source": [
        "#\n",
        "## Interface segregation principle (ISP)\n",
        "Réduire la taille des interfaces afin que les utilisateurs ne dépendent pas de choses dont ils n'ont pas besoin."
      ],
      "metadata": {
        "collapsed": false,
        "id": "c98cafa19fe800d3"
      },
      "id": "c98cafa19fe800d3"
    },
    {
      "cell_type": "code",
      "execution_count": null,
      "outputs": [],
      "source": [
        "from abc import ABC, abstractmethod\n",
        "\n",
        "class Printer(ABC):\n",
        "    @abstractmethod\n",
        "    def print(self, document):\n",
        "        pass\n",
        "\n",
        "    @abstractmethod\n",
        "    def fax(self, document):\n",
        "        pass\n",
        "\n",
        "    @abstractmethod\n",
        "    def scan(self, document):\n",
        "        pass\n",
        "\n",
        "class OldPrinter(Printer):\n",
        "    def print(self, document):\n",
        "        print(f\"Printing {document} in black and white...\")\n",
        "\n",
        "    def fax(self, document):\n",
        "        raise NotImplementedError(\"Fax functionality not supported\")\n",
        "\n",
        "    def scan(self, document):\n",
        "        raise NotImplementedError(\"Scan functionality not supported\")\n",
        "\n",
        "class ModernPrinter(Printer):\n",
        "    def print(self, document):\n",
        "        print(f\"Printing {document} in color...\")\n",
        "\n",
        "    def fax(self, document):\n",
        "        print(f\"Faxing {document}...\")\n",
        "\n",
        "    def scan(self, document):\n",
        "        print(f\"Scanning {document}...\")\n"
      ],
      "metadata": {
        "ExecuteTime": {
          "end_time": "2023-09-24T05:36:10.941709Z",
          "start_time": "2023-09-24T05:36:10.929665Z"
        },
        "id": "af1bbff35012cca7"
      },
      "id": "af1bbff35012cca7"
    },
    {
      "cell_type": "markdown",
      "source": [
        "#"
      ],
      "metadata": {
        "collapsed": false,
        "id": "6127c21ea9523170"
      },
      "id": "6127c21ea9523170"
    },
    {
      "cell_type": "code",
      "execution_count": null,
      "outputs": [],
      "source": [
        "from abc import ABC, abstractmethod\n",
        "\n",
        "class Printer(ABC):\n",
        "    @abstractmethod\n",
        "    def print(self, document):\n",
        "        pass\n",
        "\n",
        "class Fax(ABC):\n",
        "    @abstractmethod\n",
        "    def fax(self, document):\n",
        "        pass\n",
        "\n",
        "class Scanner(ABC):\n",
        "    @abstractmethod\n",
        "    def scan(self, document):\n",
        "        pass\n",
        "\n",
        "class OldPrinter(Printer):\n",
        "    def print(self, document):\n",
        "        print(f\"Printing {document} in black and white...\")\n",
        "\n",
        "class NewPrinter(Printer, Fax, Scanner):\n",
        "    def print(self, document):\n",
        "        print(f\"Printing {document} in color...\")\n",
        "\n",
        "    def fax(self, document):\n",
        "        print(f\"Faxing {document}...\")\n",
        "\n",
        "    def scan(self, document):\n",
        "        print(f\"Scanning {document}...\")"
      ],
      "metadata": {
        "ExecuteTime": {
          "end_time": "2023-09-23T20:47:22.240460Z",
          "start_time": "2023-09-23T20:47:22.225919Z"
        },
        "id": "ae4dcbd1fb903e1e"
      },
      "id": "ae4dcbd1fb903e1e"
    },
    {
      "cell_type": "markdown",
      "source": [
        "#\n",
        "## Dependency inversion principle (DIP)\n",
        "\n",
        "Les modules de haut niveau ne doivent pas dépendre des modules de bas niveau, mais tous deux doivent dépendre des abstractions"
      ],
      "metadata": {
        "collapsed": false,
        "id": "e5bad685289880d0"
      },
      "id": "e5bad685289880d0"
    },
    {
      "cell_type": "code",
      "execution_count": null,
      "outputs": [
        {
          "output_type": "stream",
          "name": "stdout",
          "text": [
            "Button1 has been pressed.\n",
            "Lamp1 is turning on.\n"
          ]
        }
      ],
      "source": [
        "class Button:\n",
        "    def __init__(self, name: str):\n",
        "        self.name = name\n",
        "\n",
        "    def press(self):\n",
        "        print(f'{self.name} has been pressed.')\n",
        "\n",
        "\n",
        "class Lamp:\n",
        "    def __init__(self, name: str, button: Button):\n",
        "        self.name = name\n",
        "        self.button = button\n",
        "\n",
        "    def turn_on(self):\n",
        "        print(f'{self.name} is turning on.')\n",
        "\n",
        "    def press_button(self):\n",
        "        self.button.press()\n",
        "        self.turn_on()\n",
        "\n",
        "\n",
        "# Usage:\n",
        "button1 = Button('Button1')\n",
        "lamp1 = Lamp('Lamp1', button1)\n",
        "\n",
        "lamp1.press_button()  # This will press the button and then turn on the lamp"
      ],
      "metadata": {
        "colab": {
          "base_uri": "https://localhost:8080/"
        },
        "id": "964a8d933c90808c",
        "outputId": "975c49df-650a-4a39-caac-8817ccb3c4b2"
      },
      "id": "964a8d933c90808c"
    },
    {
      "cell_type": "markdown",
      "source": [
        "#"
      ],
      "metadata": {
        "collapsed": false,
        "id": "3c313f8c64c74227"
      },
      "id": "3c313f8c64c74227"
    },
    {
      "cell_type": "code",
      "execution_count": null,
      "outputs": [
        {
          "output_type": "stream",
          "name": "stdout",
          "text": [
            "Lamp1 is turned on.\n",
            "Motor1 is turned on.\n"
          ]
        }
      ],
      "source": [
        "from abc import ABC, abstractmethod\n",
        "\n",
        "class ControllableDevice(ABC):\n",
        "\n",
        "    @abstractmethod\n",
        "    def turn_on(self):\n",
        "        pass\n",
        "\n",
        "\n",
        "class Button:\n",
        "    def __init__(self, name):\n",
        "        self.name = name\n",
        "        self.device = None\n",
        "\n",
        "    def set_device(self, device: ControllableDevice):\n",
        "        self.device = device\n",
        "\n",
        "    def press(self):\n",
        "        if self.device is not None:\n",
        "            self.device.turn_on()\n",
        "        else:\n",
        "            print(f'No device is set to {self.name} button.')\n",
        "\n",
        "\n",
        "class Lamp(ControllableDevice):\n",
        "    def __init__(self, name):\n",
        "        self.name = name\n",
        "\n",
        "    def turn_on(self):\n",
        "        print(f'{self.name} is turned on.')\n",
        "\n",
        "\n",
        "class Motor(ControllableDevice):\n",
        "    def __init__(self, name):\n",
        "        self.name = name\n",
        "\n",
        "    def turn_on(self):\n",
        "        print(f'{self.name} is turned on.')\n",
        "\n",
        "\n",
        "# Usage:\n",
        "\n",
        "button1 = Button('Button1')\n",
        "lamp1 = Lamp('Lamp1')\n",
        "button1.set_device(lamp1) # Link button1 with lamp1\n",
        "button1.press() # Turn on the lamp1 using button1\n",
        "\n",
        "button2 = Button('Button2')\n",
        "motor1 = Motor('Motor1')\n",
        "button2.set_device(motor1) # Link button2 with motor1\n",
        "button2.press() # Turn on the motor1 using button2"
      ],
      "metadata": {
        "colab": {
          "base_uri": "https://localhost:8080/"
        },
        "id": "dbef34cd30da70ae",
        "outputId": "0de6ad95-1d12-49f3-9bfe-3cf0ef6e3295"
      },
      "id": "dbef34cd30da70ae"
    },
    {
      "cell_type": "markdown",
      "source": [
        "Tests"
      ],
      "metadata": {
        "id": "CojrKG6sWEvr"
      },
      "id": "CojrKG6sWEvr"
    },
    {
      "cell_type": "code",
      "source": [
        "class Rectangle:\n",
        "    def __init__(self, width, height):\n",
        "        self.width = width\n",
        "        self.height = height\n",
        "\n",
        "    def get_area(self):\n",
        "        return self.width * self.height"
      ],
      "metadata": {
        "id": "dvZINIp8WKDM"
      },
      "id": "dvZINIp8WKDM",
      "execution_count": null,
      "outputs": []
    },
    {
      "cell_type": "code",
      "source": [
        "rectangle = Rectangle(20, 40)\n",
        "print(rectangle.get_area())"
      ],
      "metadata": {
        "colab": {
          "base_uri": "https://localhost:8080/"
        },
        "id": "fa3Rxf_gWQj1",
        "outputId": "0625772f-4fc3-4657-811c-77e5514312be"
      },
      "id": "fa3Rxf_gWQj1",
      "execution_count": null,
      "outputs": [
        {
          "output_type": "stream",
          "name": "stdout",
          "text": [
            "800\n"
          ]
        }
      ]
    },
    {
      "cell_type": "code",
      "source": [
        "import unittest\n",
        "\n",
        "class TestGetAreaRectangle(unittest.TestCase):\n",
        "    def test_rectangle_area_calculation(self):\n",
        "        rectangle = Rectangle(2, 3)\n",
        "        self.assertEqual(rectangle.get_area(), 9, \"incorrect area\")"
      ],
      "metadata": {
        "id": "95mh6CKiWSv0"
      },
      "id": "95mh6CKiWSv0",
      "execution_count": null,
      "outputs": []
    },
    {
      "cell_type": "code",
      "source": [
        "TestGetAreaRectangle().test_rectangle_area_calculation()"
      ],
      "metadata": {
        "colab": {
          "base_uri": "https://localhost:8080/",
          "height": 321
        },
        "id": "vMYkMlleWUwT",
        "outputId": "f141ab42-e404-46d7-c077-6bd4db7f6351"
      },
      "id": "vMYkMlleWUwT",
      "execution_count": null,
      "outputs": [
        {
          "output_type": "error",
          "ename": "AssertionError",
          "evalue": "ignored",
          "traceback": [
            "\u001b[0;31m---------------------------------------------------------------------------\u001b[0m",
            "\u001b[0;31mAssertionError\u001b[0m                            Traceback (most recent call last)",
            "\u001b[0;32m<ipython-input-32-61420468b04e>\u001b[0m in \u001b[0;36m<cell line: 1>\u001b[0;34m()\u001b[0m\n\u001b[0;32m----> 1\u001b[0;31m \u001b[0mTestGetAreaRectangle\u001b[0m\u001b[0;34m(\u001b[0m\u001b[0;34m)\u001b[0m\u001b[0;34m.\u001b[0m\u001b[0mtest_rectangle_area_calculation\u001b[0m\u001b[0;34m(\u001b[0m\u001b[0;34m)\u001b[0m\u001b[0;34m\u001b[0m\u001b[0;34m\u001b[0m\u001b[0m\n\u001b[0m",
            "\u001b[0;32m<ipython-input-31-0c2b2b99635f>\u001b[0m in \u001b[0;36mtest_rectangle_area_calculation\u001b[0;34m(self)\u001b[0m\n\u001b[1;32m      4\u001b[0m     \u001b[0;32mdef\u001b[0m \u001b[0mtest_rectangle_area_calculation\u001b[0m\u001b[0;34m(\u001b[0m\u001b[0mself\u001b[0m\u001b[0;34m)\u001b[0m\u001b[0;34m:\u001b[0m\u001b[0;34m\u001b[0m\u001b[0;34m\u001b[0m\u001b[0m\n\u001b[1;32m      5\u001b[0m         \u001b[0mrectangle\u001b[0m \u001b[0;34m=\u001b[0m \u001b[0mRectangle\u001b[0m\u001b[0;34m(\u001b[0m\u001b[0;36m2\u001b[0m\u001b[0;34m,\u001b[0m \u001b[0;36m3\u001b[0m\u001b[0;34m)\u001b[0m\u001b[0;34m\u001b[0m\u001b[0;34m\u001b[0m\u001b[0m\n\u001b[0;32m----> 6\u001b[0;31m         \u001b[0mself\u001b[0m\u001b[0;34m.\u001b[0m\u001b[0massertEqual\u001b[0m\u001b[0;34m(\u001b[0m\u001b[0mrectangle\u001b[0m\u001b[0;34m.\u001b[0m\u001b[0mget_area\u001b[0m\u001b[0;34m(\u001b[0m\u001b[0;34m)\u001b[0m\u001b[0;34m,\u001b[0m \u001b[0;36m9\u001b[0m\u001b[0;34m,\u001b[0m \u001b[0;34m\"incorrect area\"\u001b[0m\u001b[0;34m)\u001b[0m\u001b[0;34m\u001b[0m\u001b[0;34m\u001b[0m\u001b[0m\n\u001b[0m",
            "\u001b[0;32m/usr/lib/python3.10/unittest/case.py\u001b[0m in \u001b[0;36massertEqual\u001b[0;34m(self, first, second, msg)\u001b[0m\n\u001b[1;32m    843\u001b[0m         \"\"\"\n\u001b[1;32m    844\u001b[0m         \u001b[0massertion_func\u001b[0m \u001b[0;34m=\u001b[0m \u001b[0mself\u001b[0m\u001b[0;34m.\u001b[0m\u001b[0m_getAssertEqualityFunc\u001b[0m\u001b[0;34m(\u001b[0m\u001b[0mfirst\u001b[0m\u001b[0;34m,\u001b[0m \u001b[0msecond\u001b[0m\u001b[0;34m)\u001b[0m\u001b[0;34m\u001b[0m\u001b[0;34m\u001b[0m\u001b[0m\n\u001b[0;32m--> 845\u001b[0;31m         \u001b[0massertion_func\u001b[0m\u001b[0;34m(\u001b[0m\u001b[0mfirst\u001b[0m\u001b[0;34m,\u001b[0m \u001b[0msecond\u001b[0m\u001b[0;34m,\u001b[0m \u001b[0mmsg\u001b[0m\u001b[0;34m=\u001b[0m\u001b[0mmsg\u001b[0m\u001b[0;34m)\u001b[0m\u001b[0;34m\u001b[0m\u001b[0;34m\u001b[0m\u001b[0m\n\u001b[0m\u001b[1;32m    846\u001b[0m \u001b[0;34m\u001b[0m\u001b[0m\n\u001b[1;32m    847\u001b[0m     \u001b[0;32mdef\u001b[0m \u001b[0massertNotEqual\u001b[0m\u001b[0;34m(\u001b[0m\u001b[0mself\u001b[0m\u001b[0;34m,\u001b[0m \u001b[0mfirst\u001b[0m\u001b[0;34m,\u001b[0m \u001b[0msecond\u001b[0m\u001b[0;34m,\u001b[0m \u001b[0mmsg\u001b[0m\u001b[0;34m=\u001b[0m\u001b[0;32mNone\u001b[0m\u001b[0;34m)\u001b[0m\u001b[0;34m:\u001b[0m\u001b[0;34m\u001b[0m\u001b[0;34m\u001b[0m\u001b[0m\n",
            "\u001b[0;32m/usr/lib/python3.10/unittest/case.py\u001b[0m in \u001b[0;36m_baseAssertEqual\u001b[0;34m(self, first, second, msg)\u001b[0m\n\u001b[1;32m    836\u001b[0m             \u001b[0mstandardMsg\u001b[0m \u001b[0;34m=\u001b[0m \u001b[0;34m'%s != %s'\u001b[0m \u001b[0;34m%\u001b[0m \u001b[0m_common_shorten_repr\u001b[0m\u001b[0;34m(\u001b[0m\u001b[0mfirst\u001b[0m\u001b[0;34m,\u001b[0m \u001b[0msecond\u001b[0m\u001b[0;34m)\u001b[0m\u001b[0;34m\u001b[0m\u001b[0;34m\u001b[0m\u001b[0m\n\u001b[1;32m    837\u001b[0m             \u001b[0mmsg\u001b[0m \u001b[0;34m=\u001b[0m \u001b[0mself\u001b[0m\u001b[0;34m.\u001b[0m\u001b[0m_formatMessage\u001b[0m\u001b[0;34m(\u001b[0m\u001b[0mmsg\u001b[0m\u001b[0;34m,\u001b[0m \u001b[0mstandardMsg\u001b[0m\u001b[0;34m)\u001b[0m\u001b[0;34m\u001b[0m\u001b[0;34m\u001b[0m\u001b[0m\n\u001b[0;32m--> 838\u001b[0;31m             \u001b[0;32mraise\u001b[0m \u001b[0mself\u001b[0m\u001b[0;34m.\u001b[0m\u001b[0mfailureException\u001b[0m\u001b[0;34m(\u001b[0m\u001b[0mmsg\u001b[0m\u001b[0;34m)\u001b[0m\u001b[0;34m\u001b[0m\u001b[0;34m\u001b[0m\u001b[0m\n\u001b[0m\u001b[1;32m    839\u001b[0m \u001b[0;34m\u001b[0m\u001b[0m\n\u001b[1;32m    840\u001b[0m     \u001b[0;32mdef\u001b[0m \u001b[0massertEqual\u001b[0m\u001b[0;34m(\u001b[0m\u001b[0mself\u001b[0m\u001b[0;34m,\u001b[0m \u001b[0mfirst\u001b[0m\u001b[0;34m,\u001b[0m \u001b[0msecond\u001b[0m\u001b[0;34m,\u001b[0m \u001b[0mmsg\u001b[0m\u001b[0;34m=\u001b[0m\u001b[0;32mNone\u001b[0m\u001b[0;34m)\u001b[0m\u001b[0;34m:\u001b[0m\u001b[0;34m\u001b[0m\u001b[0;34m\u001b[0m\u001b[0m\n",
            "\u001b[0;31mAssertionError\u001b[0m: 6 != 9 : incorrect area"
          ]
        }
      ]
    }
  ],
  "metadata": {
    "kernelspec": {
      "display_name": "Python 3",
      "language": "python",
      "name": "python3"
    },
    "language_info": {
      "codemirror_mode": {
        "name": "ipython",
        "version": 2
      },
      "file_extension": ".py",
      "mimetype": "text/x-python",
      "name": "python",
      "nbconvert_exporter": "python",
      "pygments_lexer": "ipython2",
      "version": "2.7.6"
    },
    "colab": {
      "provenance": [],
      "include_colab_link": true
    }
  },
  "nbformat": 4,
  "nbformat_minor": 5
}